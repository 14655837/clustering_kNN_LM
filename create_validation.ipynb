{
 "cells": [
  {
   "cell_type": "markdown",
   "id": "e0b683bf",
   "metadata": {},
   "source": [
    "Import libraries"
   ]
  },
  {
   "cell_type": "code",
   "execution_count": 3,
   "id": "8b1b42ec",
   "metadata": {},
   "outputs": [],
   "source": [
    "import numpy as np\n",
    "import joblib\n",
    "import random\n",
    "import faiss"
   ]
  },
  {
   "cell_type": "markdown",
   "id": "fa0f7f2d",
   "metadata": {},
   "source": [
    "Load data (with other data this would look different)"
   ]
  },
  {
   "cell_type": "code",
   "execution_count": null,
   "id": "1ce24848",
   "metadata": {},
   "outputs": [],
   "source": [
    "index = faiss.read_index(\"it.deen.faiss_L2_IVFPQindex_cs64_nprobe32\")"
   ]
  },
  {
   "cell_type": "code",
   "execution_count": null,
   "id": "9c0bee62",
   "metadata": {},
   "outputs": [],
   "source": [
    "keys = np.memmap(\"it_train.features.npy\", dtype=np.float32, mode='r', shape=(index.ntotal, index.d))\n",
    "ids = np.memmap(\"it_train.targets.npy\", dtype=np.int32, mode='r', shape=(index.ntotal,))"
   ]
  },
  {
   "cell_type": "markdown",
   "id": "089b2dba",
   "metadata": {},
   "source": [
    "Create validation set"
   ]
  },
  {
   "cell_type": "code",
   "execution_count": null,
   "id": "fe44eafa",
   "metadata": {},
   "outputs": [],
   "source": [
    "num_delete = 50_000\n",
    "total_in_index = index.ntotal\n",
    "indices = np.array(random.sample(range(total_in_index), num_delete))\n",
    "\n",
    "val_keys = keys[indices]\n",
    "val_ids = ids[indices]\n",
    "\n",
    "non_indeces = [i for i in range(index.ntotal) if i not in indices]\n",
    "rest_keys = keys[non_indeces]\n",
    "rest_ids = ids[non_indeces]"
   ]
  },
  {
   "cell_type": "code",
   "execution_count": null,
   "id": "8d8ef818",
   "metadata": {},
   "outputs": [],
   "source": [
    "#Change the datatype to np.arrays\n",
    "val_keys = np.array(val_keys)\n",
    "val_ids = np.array(val_ids)\n",
    "rest_keys = np.array(rest_keys)\n",
    "rest_ids = np.array(rest_ids)"
   ]
  },
  {
   "cell_type": "code",
   "execution_count": null,
   "id": "75244153",
   "metadata": {},
   "outputs": [],
   "source": [
    "def create_index(index_org, new_keys):\n",
    "    d = index_org.d\n",
    "    n_list = index_org.nlist\n",
    "    n_probe = index_org.nprobe\n",
    "    m = index_org.pq.M\n",
    "    nbits = index_org.pq.nbits\n",
    "    quantizer = faiss.IndexFlatL2(d)\n",
    "    new_index = faiss.IndexIVFPQ(quantizer, d, n_list, m, nbits)\n",
    "    new_index.nprobe = n_probe\n",
    "    new_index.train(new_keys)\n",
    "    new_index.add(new_keys)\n",
    "    return new_index"
   ]
  },
  {
   "cell_type": "code",
   "execution_count": null,
   "id": "20bcbf34",
   "metadata": {},
   "outputs": [],
   "source": [
    "own_index = create_index(index, rest_keys)"
   ]
  },
  {
   "cell_type": "markdown",
   "id": "a99d783d",
   "metadata": {},
   "source": [
    "Save new data"
   ]
  },
  {
   "cell_type": "code",
   "execution_count": null,
   "id": "1df06ba3",
   "metadata": {},
   "outputs": [],
   "source": [
    "#Save validation keys and ids\n",
    "joblib.dump(val_keys, \"validation keys\")\n",
    "joblib.dump(val_ids, \"validation ids\")"
   ]
  },
  {
   "cell_type": "code",
   "execution_count": null,
   "id": "deff742a",
   "metadata": {},
   "outputs": [],
   "source": [
    "#Save the index, keys and ids that are not the validation, so what now becomes the original dataset\n",
    "joblib.dump(rest_keys, \"validation keys\")\n",
    "joblib.dump(rest_ids, \"validation ids\")\n",
    "faiss.write_index(own_index, \"index without validation\")"
   ]
  }
 ],
 "metadata": {
  "kernelspec": {
   "display_name": "faiss_env",
   "language": "python",
   "name": "python3"
  },
  "language_info": {
   "codemirror_mode": {
    "name": "ipython",
    "version": 3
   },
   "file_extension": ".py",
   "mimetype": "text/x-python",
   "name": "python",
   "nbconvert_exporter": "python",
   "pygments_lexer": "ipython3",
   "version": "3.12.9"
  }
 },
 "nbformat": 4,
 "nbformat_minor": 5
}
